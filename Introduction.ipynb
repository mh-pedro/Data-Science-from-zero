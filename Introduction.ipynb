{
 "cells": [
  {
   "cell_type": "markdown",
   "metadata": {},
   "source": [
    "# Capítulo 1"
   ]
  },
  {
   "cell_type": "markdown",
   "metadata": {},
   "source": [
    "## Encontrando Conectores-Chave"
   ]
  },
  {
   "cell_type": "code",
   "execution_count": 2,
   "metadata": {},
   "outputs": [],
   "source": [
    "users = [{\"id\":0, \"name\":\"Hero\"},\n",
    "         {\"id\":1, \"name\":\"Dunn\"},\n",
    "         {\"id\":2, \"name\":\"Sue\"},\n",
    "         {\"id\":3, \"name\":\"Chi\"},\n",
    "         {\"id\":4, \"name\":\"Thor\"},\n",
    "         {\"id\":5, \"name\":\"Clive\"},\n",
    "         {\"id\":6, \"name\":\"Hicks\"},\n",
    "         {\"id\":7, \"name\":\"Devin\"},\n",
    "         {\"id\":8, \"name\":\"Kate\"},\n",
    "         {\"id\":9, \"name\":\"Klein\"}]"
   ]
  },
  {
   "cell_type": "code",
   "execution_count": 3,
   "metadata": {},
   "outputs": [],
   "source": [
    "friendships = [(0,1),(0,2),(1,2),(1,3),(2,3),(3,4),(4,5),(5,6),(5,7),(6,8),(7,8),(8,9)]"
   ]
  },
  {
   "cell_type": "markdown",
   "metadata": {},
   "source": [
    "Para a primeira tupla (0,1) temos a indicação que o `id` 0 (Hero) e o `id` 1 (Dunn) são amigos."
   ]
  },
  {
   "cell_type": "markdown",
   "metadata": {},
   "source": [
    "Podemos criar uma lista de amigos para cada usuário"
   ]
  },
  {
   "cell_type": "code",
   "execution_count": 4,
   "metadata": {},
   "outputs": [],
   "source": [
    "# Criando uma lista vazia para cada user\n",
    "for user in users:\n",
    "    user[\"friends\"] = []"
   ]
  },
  {
   "cell_type": "markdown",
   "metadata": {},
   "source": [
    "Povoando a lista de amigos de cada user"
   ]
  },
  {
   "cell_type": "code",
   "execution_count": 5,
   "metadata": {},
   "outputs": [],
   "source": [
    "for i, j in friendships:\n",
    "    users[i][\"friends\"].append(users[j]) # Adicionando i como amigo de j\n",
    "    users[j][\"friends\"].append(users[i]) # Adicionando j como amigo de i"
   ]
  },
  {
   "cell_type": "markdown",
   "metadata": {},
   "source": [
    "Qual é o número médio de conexões?\n",
    "\n",
    "Primeiro precisamos saber o número total de conexões, uma vez que a media sera o total de conexões divido pelo total de users."
   ]
  },
  {
   "cell_type": "code",
   "execution_count": 6,
   "metadata": {},
   "outputs": [],
   "source": [
    "def number_of_friends(user):\n",
    "    return len(user[\"friends\"])\n",
    "total_connections = sum(number_of_friends(user) for user in users)"
   ]
  },
  {
   "cell_type": "code",
   "execution_count": 7,
   "metadata": {},
   "outputs": [
    {
     "data": {
      "text/plain": [
       "2"
      ]
     },
     "execution_count": 7,
     "metadata": {},
     "output_type": "execute_result"
    }
   ],
   "source": [
    "num_users = len(users)\n",
    "avg_connections = total_connections // num_users # Divisão inteira\n",
    "avg_connections"
   ]
  },
  {
   "cell_type": "markdown",
   "metadata": {},
   "source": [
    "O número médio é 2 conecxões por pessoa. \n",
    "Podemos saber quais pessoas são mais conectadas"
   ]
  },
  {
   "cell_type": "code",
   "execution_count": 8,
   "metadata": {},
   "outputs": [],
   "source": [
    "# cria uma lista (user_id, number_of_friends)\n",
    "num_friends_by_id = [(user[\"id\"], number_of_friends(user)) for user in users]"
   ]
  },
  {
   "cell_type": "markdown",
   "metadata": {},
   "source": [
    "Ordenando "
   ]
  },
  {
   "cell_type": "code",
   "execution_count": 9,
   "metadata": {},
   "outputs": [
    {
     "data": {
      "text/plain": [
       "[(1, 3),\n",
       " (2, 3),\n",
       " (3, 3),\n",
       " (5, 3),\n",
       " (8, 3),\n",
       " (0, 2),\n",
       " (4, 2),\n",
       " (6, 2),\n",
       " (7, 2),\n",
       " (9, 1)]"
      ]
     },
     "execution_count": 9,
     "metadata": {},
     "output_type": "execute_result"
    }
   ],
   "source": [
    "sorted(num_friends_by_id, key=lambda num_friends_by_id:num_friends_by_id[1], reverse=True)\n",
    "# É ordenado por num_friends_by_id[1] do maior para o menor"
   ]
  },
  {
   "cell_type": "markdown",
   "metadata": {},
   "source": [
    "Temos uma lista com os `id` e o números de amigos"
   ]
  },
  {
   "cell_type": "code",
   "execution_count": 10,
   "metadata": {},
   "outputs": [],
   "source": [
    "import matplotlib.pyplot as plt\n",
    "import matplotlib.ticker as ticker\n",
    "import numpy as np"
   ]
  },
  {
   "cell_type": "code",
   "execution_count": 11,
   "metadata": {},
   "outputs": [
    {
     "data": {
      "image/png": "[encoded data removed]",
      "text/plain": [
       "<Figure size 800x600 with 1 Axes>"
      ]
     },
     "metadata": {},
     "output_type": "display_data"
    }
   ],
   "source": [
    "plt.figure(figsize=(8,6))\n",
    "x, y = zip(*num_friends_by_id)\n",
    "\n",
    "# Plotar os pontos\n",
    "plt.scatter(x, y)\n",
    "plt.xlabel('id')\n",
    "plt.ylabel('Num_of_friends')\n",
    "plt.xticks(np.linspace(min(x), max(x), 10))\n",
    "\n",
    "# Ajustar os ticks do eixo y para intervalos unitários\n",
    "plt.yticks(np.arange(min(y), max(y)+1, 1))\n",
    "plt.show()"
   ]
  },
  {
   "cell_type": "markdown",
   "metadata": {},
   "source": [
    "## Cientistas de Dados que você talvez conheça"
   ]
  },
  {
   "cell_type": "markdown",
   "metadata": {},
   "source": [
    "Para aumentar a relação, podemos propor que o usuário conheça os amigos de amigos."
   ]
  },
  {
   "cell_type": "code",
   "execution_count": 12,
   "metadata": {},
   "outputs": [],
   "source": [
    "def friends_of_friend_ids_bad(user):\n",
    "    # foaf é a abreviação\n",
    "    return [foaf[\"id\"]\n",
    "        for friend in user[\"friends\"]  # para cada amigo do user\n",
    "        for foaf in friend[\"friends\"]] # pega cada _their_friends\n"
   ]
  },
  {
   "cell_type": "markdown",
   "metadata": {},
   "source": [
    "Vamos olhar quantos amigos o user 0 tem."
   ]
  },
  {
   "cell_type": "code",
   "execution_count": 30,
   "metadata": {},
   "outputs": [
    {
     "data": {
      "text/plain": [
       "2"
      ]
     },
     "execution_count": 30,
     "metadata": {},
     "output_type": "execute_result"
    }
   ],
   "source": [
    "len(users[0]['friends']) # Indica que o User 0 tem dois amigos."
   ]
  },
  {
   "cell_type": "markdown",
   "metadata": {},
   "source": [
    "Para saber quais são esses amigos, podemos olhar a lista de friendships que nos indica que o user 0 é amigo do user 1 e 2."
   ]
  },
  {
   "cell_type": "code",
   "execution_count": 32,
   "metadata": {},
   "outputs": [
    {
     "data": {
      "text/plain": [
       "[(0, 1),\n",
       " (0, 2),\n",
       " (1, 2),\n",
       " (1, 3),\n",
       " (2, 3),\n",
       " (3, 4),\n",
       " (4, 5),\n",
       " (5, 6),\n",
       " (5, 7),\n",
       " (6, 8),\n",
       " (7, 8),\n",
       " (8, 9)]"
      ]
     },
     "execution_count": 32,
     "metadata": {},
     "output_type": "execute_result"
    }
   ],
   "source": [
    "friendships"
   ]
  },
  {
   "cell_type": "code",
   "execution_count": 24,
   "metadata": {},
   "outputs": [
    {
     "data": {
      "text/plain": [
       "[0, 2, 3, 0, 1, 3]"
      ]
     },
     "execution_count": 24,
     "metadata": {},
     "output_type": "execute_result"
    }
   ],
   "source": [
    "friends_of_friend_ids_bad(users[0]) # user Hero"
   ]
  },
  {
   "cell_type": "markdown",
   "metadata": {},
   "source": [
    "O user 0 (Hero) aparece duas vezes, uma vez que ele é amigo de amos seus amigos.\n",
    "Inclui também os os users 1 e 2, pois são amigos do user 0.\n",
    "Mas inclui o user 3 duas vezes, pois ele é amigo dos users 1 e 2. \n",
    "Este resultado nos indica que por meio dos amigos 1 e 2, o user 0 pode chegar ao amigo 3, estendendo a relação de amizades.\n",
    "\n",
    "De forma mais claras, podemos visualizar essas amizades por meio do"
   ]
  },
  {
   "cell_type": "code",
   "execution_count": 39,
   "metadata": {},
   "outputs": [
    {
     "name": "stdout",
     "output_type": "stream",
     "text": [
      "[1, 2]\n"
     ]
    }
   ],
   "source": [
    "print([friend['id'] for friend in users[0]['friends']])"
   ]
  },
  {
   "cell_type": "markdown",
   "metadata": {},
   "source": [
    "Ou para todos os users"
   ]
  },
  {
   "cell_type": "code",
   "execution_count": 62,
   "metadata": {},
   "outputs": [
    {
     "data": {
      "text/plain": [
       "10"
      ]
     },
     "execution_count": 62,
     "metadata": {},
     "output_type": "execute_result"
    }
   ],
   "source": [
    "len(users)"
   ]
  },
  {
   "cell_type": "code",
   "execution_count": 63,
   "metadata": {},
   "outputs": [
    {
     "name": "stdout",
     "output_type": "stream",
     "text": [
      " Os ammigos do user 0 são os users: 1 2 \n",
      " Os ammigos do user 1 são os users: 0 2 3 \n",
      " Os ammigos do user 2 são os users: 0 1 3 \n",
      " Os ammigos do user 3 são os users: 1 2 4 \n",
      " Os ammigos do user 4 são os users: 3 5 \n",
      " Os ammigos do user 5 são os users: 4 6 7 \n",
      " Os ammigos do user 6 são os users: 5 8 \n",
      " Os ammigos do user 7 são os users: 5 8 \n",
      " Os ammigos do user 8 são os users: 6 7 9 \n",
      " Os ammigos do user 9 são os users: 8 \n"
     ]
    }
   ],
   "source": [
    "for user in range(0,len(users)):\n",
    "    print(f' Os ammigos do user {user} são os users:', end=' ')\n",
    "    for friend in users[user]['friends']:\n",
    "        print(f'{friend['id']}', end=' ')\n",
    "    print()\n",
    "    "
   ]
  },
  {
   "cell_type": "markdown",
   "metadata": {},
   "source": [
    "Voutando a lista de amigos de amigos, notamos que alguns valores aparecem repetidos.\n",
    "Saber quantos amigos-de-amigos temos é interessante, contudo temos que remover os repetidos."
   ]
  },
  {
   "cell_type": "code",
   "execution_count": 64,
   "metadata": {},
   "outputs": [],
   "source": [
    "from collections import Counter"
   ]
  },
  {
   "cell_type": "code",
   "execution_count": 65,
   "metadata": {},
   "outputs": [],
   "source": [
    "def not_the_same(user, other_user): # Usamos para podermos distinguir os usuários\n",
    "    return user['id'] != other_user['id']"
   ]
  },
  {
   "cell_type": "code",
   "execution_count": 67,
   "metadata": {},
   "outputs": [],
   "source": [
    "def not_friend(user, other_user):\n",
    "    # other_user não é amigo se não está em user['friends'];\n",
    "    # isto é, se not_the_same com todos as pessoas em user['friends'], para pegar apenas amigos-de-amigos distintos\n",
    "    return all(not_the_same(friend, other_user)\n",
    "               for friend in user['friends'])"
   ]
  },
  {
   "cell_type": "code",
   "execution_count": 68,
   "metadata": {},
   "outputs": [],
   "source": [
    "def friends_of_friends_ids(user):\n",
    "    return Counter(foaf['id']\n",
    "                   for friend in user['friends'] # para cada um dos meus amigos\n",
    "                   for foaf in friend['friends'] # que contam *their* amigos\n",
    "                   if not_the_same(user,foaf)    # que não seja eu\n",
    "                   and not_friend(user,foaf))    # e que não são meus amigos"
   ]
  },
  {
   "cell_type": "code",
   "execution_count": 70,
   "metadata": {},
   "outputs": [
    {
     "name": "stdout",
     "output_type": "stream",
     "text": [
      "Counter({0: 2, 5: 1})\n"
     ]
    }
   ],
   "source": [
    "print(friends_of_friends_ids(users[3]))"
   ]
  },
  {
   "cell_type": "markdown",
   "metadata": {},
   "source": [
    "Este resultado indca que  Chi (user 3) possui dois amigos em comum com o Hero (user 0) mas somente um amigo em comum com Clive (user 5)."
   ]
  },
  {
   "cell_type": "markdown",
   "metadata": {},
   "source": []
  }
 ],
 "metadata": {
  "kernelspec": {
   "display_name": "Python 3",
   "language": "python",
   "name": "python3"
  },
  "language_info": {
   "codemirror_mode": {
    "name": "ipython",
    "version": 3
   },
   "file_extension": ".py",
   "mimetype": "text/x-python",
   "name": "python",
   "nbconvert_exporter": "python",
   "pygments_lexer": "ipython3",
   "version": "3.11.9"
  }
 },
 "nbformat": 4,
 "nbformat_minor": 2
}
